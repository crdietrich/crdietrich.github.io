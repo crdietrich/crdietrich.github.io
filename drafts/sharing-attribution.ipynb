{
 "cells": [
  {
   "cell_type": "markdown",
   "metadata": {},
   "source": [
    "Good quote breakdown:\n",
    "(here)[https://quoteinvestigator.com/2013/03/06/artists-steal/]\n",
    "\n",
    "(stealing is good)[https://www.di-mgt.com.au/src/steal_ms.htm]\n",
    "\n",
    "This conversation was before github and it was easy to fork code - 'steal' often and attribute.  \n",
    "Going hand in hand with stealing is the invitation to contribute!"
   ]
  },
  {
   "cell_type": "code",
   "execution_count": null,
   "metadata": {
    "collapsed": true
   },
   "outputs": [],
   "source": []
  }
 ],
 "metadata": {
  "kernelspec": {
   "display_name": "Python 3",
   "language": "python",
   "name": "python3"
  },
  "language_info": {
   "codemirror_mode": {
    "name": "ipython",
    "version": 3
   },
   "file_extension": ".py",
   "mimetype": "text/x-python",
   "name": "python",
   "nbconvert_exporter": "python",
   "pygments_lexer": "ipython3",
   "version": "3.6.2"
  }
 },
 "nbformat": 4,
 "nbformat_minor": 2
}
