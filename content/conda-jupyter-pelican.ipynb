{
 "cells": [
  {
   "cell_type": "markdown",
   "metadata": {},
   "source": [
    "Using Conda environments is a great way to create reproducible, cross-platform data products.  I used virtual environments a bit before reading Jake VanderPlas' [great article](http://jakevdp.github.io/blog/2016/08/25/conda-myths-and-misconceptions/) on conda and now I've completely made the switch.  Maintaining separate interpreters for projects is nice and so is avoiding compiling issues on Windows, however the best reason to use conda is the `environment.yml` file.  \n",
    "\n",
    "Building a conda environment from a file is very similiar to using a Makefile - it will reliably recreate a Python interpreter with specific libraries installed.  This isn't useful at the start of a project but after wrangling data and installing libraries of various utility you will ideally end up with a product to share.  This is real power of the conda environment file: the ability to export the state of the conda environment including dependencies to a file and commit that file to the project repository.  Now you can deploy code, model outputs and the execution environment to a server, share it with a friend or redo your own work two years from now on a new machine with no fuss!\n",
    "\n",
    "The magic is as simple as:  \n",
    "`$ conda env export > environment.yml`  \n",
    "\n",
    "This command and reference for managing conda environments is available [here.](https://conda.io/docs/user-guide/tasks/manage-environments.html)  \n",
    "  \n",
    "What is truely next-level about conda is the ablity to install non-Python tools with conda.  From wrapping some [MATLAB](https://anaconda.org/conda-forge/octave), calling [ggplot](https://anaconda.org/r/r-ggplot2) or just curious about [Julia](https://anaconda.org/conda-forge/julia) you can reproducible include that in your project.  \n",
    "\n",
    "Jupyter is flexible tool to explore and present results and needs very little introduction these days since even [Nature is writing about it](https://www.nature.com/articles/d41586-018-07196-1).  One of its less discussed features is relevant to conda, namely Jupyter's ability to use [multiple kernals](https://github.com/jupyter/jupyter/wiki/Jupyter-kernels).  So after installing R via conda, you can run R scripts (or Julia or MATLAB or Perl etc).  \n",
    "\n",
    "I figured a good Hello World to this blog would be the setup and in that regard I followed Vik Paruchuri''s post [Building a Data Science Portfolio: Setting Up a Blog](https://www.dataquest.io/blog/how-to-setup-a-data-science-blog/) which lays out the pelican static site process well and discusses some trade offs.  Ducan Lock had a good review of [changes required for newer installs of Pelican.](http://duncanlock.net/blog/2016/03/05/how-i-upgraded-this-website-to-pelican-36/)  "
   ]
  },
  {
   "cell_type": "markdown",
   "metadata": {},
   "source": [
    "### 1. Install Miniconda for your Platform\n",
    "I prefer to use Miniconda, installation and environment management instructions can be found at:  \n",
    "\n",
    "[https://conda.io/docs/user-guide/install/index.html](https://conda.io/docs/user-guide/install/index.html)"
   ]
  },
  {
   "cell_type": "markdown",
   "metadata": {},
   "source": [
    "### 2. Create working directory and files\n",
    "Once conda is installed, create a folder and change directory into it, in this post we'll call it `blog-source`  \n",
    "\n",
    "Next, make a file called `environment.yml` in `blog-source` and put the following in it:  \n",
    "```\n",
    "name: pelican-blog\n",
    "\n",
    "channels:\n",
    "    - defaults\n",
    "    - conda-forge\n",
    "    - plotly\n",
    "\n",
    "dependencies:\n",
    "    - markdown\n",
    "    - beautifulsoup4\n",
    "    - pelican\n",
    "    - numpy\n",
    "    - scipy\n",
    "    - pandas\n",
    "    - scikit-learn\n",
    "    - tensorflow\n",
    "    - matplotlib\n",
    "    - plotly\n",
    "    - jupyter\n",
    "    - nbconvert\n",
    "    - ghp-import\n",
    "    - spyder\n",
    "    - git\n",
    "    - pip\n",
    "    - pip:\n",
    "        - cufflinks\n",
    "```  \n",
    "This is has a few of the libraries that are useful for data driven projects.  Vik's post lists specific library versions which are now out of date, I prefer to specify all requirements and let the package manager sort the dependencies during environment creation.  If in the future I need a specific build I will export the environment state as described above to a new `environment.yml` file and document what it is for.  The export process will save the library version, i.e. `- numpy=1.13.1=py36_0`"
   ]
  },
  {
   "cell_type": "markdown",
   "metadata": {},
   "source": [
    "### 3. Create Conda environment and activate it  \n",
    "Inside `blog-source` run:  \n",
    "```$ conda env create -f environment.yml```  \n",
    "To activate the conda environment in Mac OSX or Linux:  \n",
    "\n",
    "```$ source activate pelican-blog```  \n",
    "and in Windows:  \n",
    "\n",
    "```> activate pelican-blog```  \n",
    "Check installed libraries work:  \n",
    "```  \n",
    "(pelican-blog) ~/blog-source$ python  \n",
    "Python 3.6.2 |Continuum Analytics, Inc.| (default, Jul 20 2017, 13:51:32)  \n",
    "[GCC 4.4.7 20120313 (Red Hat 4.4.7-1)] on linux  \n",
    "Type \"help\", \"copyright\", \"credits\" or \"license\" for more information.  \n",
    ">>> import markdown  \n",
    ">>> import bs4  \n",
    ">>> import pelican\n",
    ">>> import numpy\n",
    ">>> import scipy\n",
    ">>> import pandas\n",
    ">>> import sklearn\n",
    ">>> import tensorflow\n",
    ">>> import matplotlib\n",
    ">>> import plotly\n",
    ">>> import cufflinks\n",
    "```"
   ]
  },
  {
   "cell_type": "markdown",
   "metadata": {},
   "source": [
    "### 4. Build Pelican site  \n",
    "Run the pelican-quickstart command in the `blog-source` folder to begin the interactive setup script:  \n",
    "\n",
    "```(pelican-blog) ~/blog-source$ pelican-quickstart```  \n",
    "\n",
    "Answer the setup questions, choose the default if you don't know the answer.  After it completes, you should have `output` and `content` folders as well as several new files including `pelicanconf.py` and `publishconf.py`  \n",
    "\n",
    "If you want to use a favicon, generate one (I used this [site](https://favicon.io/favicon-generator/)) and put it in a folder called `extra` inside the `content` folder."
   ]
  },
  {
   "cell_type": "markdown",
   "metadata": {},
   "source": [
    "### 5. Install Git and Pelican Jupyter plugin  \n",
    "We'll need git to publish our blog as well as install the Jupyter Pelican plugin.  On Linux and Mac Git may already be installed, it is included in the conda environment file so if you're working in Windows it will be available.  \n",
    "\n",
    "First confirm git is available:  \n",
    "`$ git --version  \n",
    "git version 2.7.4`  \n",
    "\n",
    "Then initialize a local repository in `blog-source`:  \n",
    "`(pelican-blog) ~/blog-source $ git init  `  \n",
    "\n",
    "Create a destination for the Jupyter plugin:  \n",
    "`(pelican-blog) ~/blog-source $ mkdir plugins`  \n",
    "\n",
    "Install pelican-ipynb:  \n",
    "```(pelican-blog) ~/blog-source $ git submodule add git://github.com/danielfrg/pelican-ipynb.git plugins/ipynb```  \n",
    "\n",
    "There should be a `.gitmodules` file and inside the `plugins` folder should be a folder called `ipynb`  \n",
    "\n",
    "Activate and configure the plugin by editing the `pelicanconf.py` file to have the following at the end of the file. Note that the variables are all lists, older versions of Pelican allowed strings.  \n",
    "\n",
    "```\n",
    "MARKUP = ('md', 'ipynb')  \n",
    "PLUGIN_PATHS = ['./plugins']  \n",
    "PLUGINS = ['ipynb.markup']  \n",
    "IGNORE_FILES =['.ipynb_checkpoints']```"
   ]
  },
  {
   "cell_type": "markdown",
   "metadata": {},
   "source": [
    "### 6. Write first post  \n",
    "Each post requires two files, a Jupyter notebook and a meta data file.  In older versions of Pelican, the metadata file extension was `.ipynb-meta` however this file is now `.nbdata`.  The internals of the `.nbdata` are:  \n",
    "```\n",
    "Title: First Post\n",
    "Slug: conda-jupyter-pelican\n",
    "Date: 2018-12-08 18:00\n",
    "Category: posts\n",
    "Tags: Python Jupyter Conda\n",
    "Author: Colin Dietrich\n",
    "Summary: Building a Python Blog using Conda and Pelican```  \n",
    "\n",
    "The fields are straight forward except for 'Slug' which wikipedia has a [nice explaination.](https://en.wikipedia.org/wiki/Clean_URL#Slug) - it is the file name of the source notebook used in the URL, the companion .nbdata file should be named the same."
   ]
  },
  {
   "cell_type": "markdown",
   "metadata": {},
   "source": [
    "### 7. Generate Static HTML  \n",
    "\n",
    "If you want to use a custom theme, look at the [gallery](https://github.com/getpelican/pelican-themes) and download one into a local folder.  I use `themes` inside `blog-source` so I can commit it and keep it with the rest of the site source.  To tell Pelican to use the theme `your_custom_theme` inside `themes`, open `pelicanconf.py` and add the following line:  \n",
    "`THEME = '-/blog/themes/your_custom_theme'`\n",
    "\n",
    "From the root of blog-source again, generat the static HTML with:    \n",
    "```(blog) ~/blog-source$ pelican content```  \n",
    "  \n",
    "Then switch to the output folder and run:  \n",
    "```(blog) ~/blog-source/output$ pelican -l```  \n",
    "  \n",
    "Open `localhost:8000` in a browser to view a local copy of your site.  \n",
    "\n",
    "To quit the local test server, press `ctrl+C` in the terminal."
   ]
  },
  {
   "cell_type": "markdown",
   "metadata": {},
   "source": [
    "### 8. Create Github Page  and setup local git configuration\n",
    "\n",
    "Up to this point, we've successfully installed Python, Jupyter and Pelican, written content in Jupyter, converted it into static HTML and viewed it on a local server.  As it is we have source `.py` files, various configuration files and folders, Jupyter Notebooks and the static output HTML in the `output`.  \n",
    "\n",
    "To publish our site, as currently storing in the `output` folder, we must add the files to the root directory and `master` branch of a git repository and push that to Github.  To keep everything together in one organized repository (and completely backed up on Github), we'll use a branch to store the source files.  When set up, we'll have two branches:  \n",
    "\n",
    "##### master branch  \n",
    "\n",
    "\n",
    "##### A. Setup Github Repository  \n",
    "Within your github account, create a repository called `your_username.github.io` without any files (no README, .gitignore, etc).  Once it's created on Github, copy the SSH link for adding to your local repository.\n",
    "\n",
    "##### B. Setup Local Repository  \n",
    "On your local blog directory `blog-source`, initialize a new repository and add the new remote origin on github to the local git repository:  \n",
    "  \n",
    "```(blog) ~/blog-source $ git init  \n",
    "(blog) ~/blog-source $ git remote add origin git@github.com:your_username/your_username.github.io.git```  \n",
    "\n",
    "Next, create a new branch called `develop` to keep Python, Jupyter and Pelican source files in:  \n",
    "``(blog) ~/code/blog-source $ git checkout -b develop\n",
    "Switched to a new branch 'develop'\n",
    "``\n",
    "\n",
    "Into the working directory `blog-source` create a file called `.gitignore` and copy the contents of [this file](https://github.com/github/gitignore/blob/master/Python.gitignore) into it.  This was a great suggestion by Vik, it really keeps the repo clean later when we start working on projects with IDEs that litter the working directory.  \n",
    "\n",
    "\n",
    "\n",
    "\n",
    "On Github, confirm in the repository settings under GitHub Pages 'Your site is published at https://your_username.github.io'  \n",
    "\n",
    "\n",
    "\n",
    "Locally, edit the `SITEURL` variable inside the `publishconf.py` to your site URL"
   ]
  },
  {
   "cell_type": "markdown",
   "metadata": {},
   "source": [
    "### 9. Publishing workflow  \n",
    "  \n",
    "##### A. Managing Git branches for work in progress  \n",
    "You can either manually add files to the content folder or manage posts with git.  Everything commited to the `master` branch will be what Github Pages uses to publish, so any work in progress can be stored in branches for each post and merged to master as part of publishing.  A branch for one post can be made with:  \n",
    "`$ git checkout -b dev_branch_for_a_post`  \n",
    "  \n",
    "##### B. Work Locally and check static HTML build\n",
    "To preview your site locally, in `blog-source` run:  \n",
    "`(blog) ~/blog-source $ pelican content`  \n",
    "  \n",
    "Then start a local test server with:  \n",
    "`(blog) ~/blog-source $ pelican -l`\n",
    "  \n",
    "Finally, check the build locally by opening:  \n",
    "`http://localhost:8000/`  \n",
    "\n",
    "##### C. Rebuild for Online and push to Github  \n",
    "To publish your site to Github Pages using site URLs, run:  \n",
    "`(blog) ~/blog-source $ pelican content -s publishconf.py`  \n",
    "  \n",
    "Use the `ghp-import` tool to import the output folder to the `master` branch of your repository.  \n",
    "\n",
    "Push your files to Github:  \n",
    "`$ git push origin master`  \n",
    "\n",
    "Finally, check your site is online at:  \n",
    "`https://your_username.github.io`  \n",
    "\n",
    "I found one challenge was setting the pelican-ipynb as a submodule, Github couldn't initially clone the repository."
   ]
  },
  {
   "cell_type": "markdown",
   "metadata": {},
   "source": [
    "### 10. Next Steps  \n",
    "Now that the site is up online, add more content and if you want any extended features, revisit `publishconfi.py` to enable analytics, comments, and feeds."
   ]
  },
  {
   "cell_type": "code",
   "execution_count": null,
   "metadata": {
    "collapsed": true
   },
   "outputs": [],
   "source": []
  }
 ],
 "metadata": {
  "kernelspec": {
   "display_name": "Python 3",
   "language": "python",
   "name": "python3"
  },
  "language_info": {
   "codemirror_mode": {
    "name": "ipython",
    "version": 3
   },
   "file_extension": ".py",
   "mimetype": "text/x-python",
   "name": "python",
   "nbconvert_exporter": "python",
   "pygments_lexer": "ipython3",
   "version": "3.6.2"
  }
 },
 "nbformat": 4,
 "nbformat_minor": 2
}
